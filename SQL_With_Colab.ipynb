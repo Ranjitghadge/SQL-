{
  "nbformat": 4,
  "nbformat_minor": 0,
  "metadata": {
    "colab": {
      "provenance": [],
      "authorship_tag": "ABX9TyMMX50kX5M5Ea9cqoPY9aR2",
      "include_colab_link": true
    },
    "kernelspec": {
      "name": "python3",
      "display_name": "Python 3"
    },
    "language_info": {
      "name": "python"
    }
  },
  "cells": [
    {
      "cell_type": "markdown",
      "metadata": {
        "id": "view-in-github",
        "colab_type": "text"
      },
      "source": [
        "<a href=\"https://colab.research.google.com/github/Ranjitghadge/SQL-/blob/main/SQL_With_Colab.ipynb\" target=\"_parent\"><img src=\"https://colab.research.google.com/assets/colab-badge.svg\" alt=\"Open In Colab\"/></a>"
      ]
    },
    {
      "cell_type": "code",
      "execution_count": 8,
      "metadata": {
        "id": "MDP5KbaZLjO-"
      },
      "outputs": [],
      "source": [
        "import sqlite3"
      ]
    },
    {
      "cell_type": "code",
      "source": [
        "conn = sqlite3.connect('test.db')"
      ],
      "metadata": {
        "id": "1dhHpcp1Mnn-"
      },
      "execution_count": 9,
      "outputs": []
    },
    {
      "cell_type": "code",
      "source": [
        "conn.execute('''\n",
        "CREATE TABLE Departments(\n",
        "  Code INTEGER PRIMARY KEY NOT NULL,\n",
        "  Name Varchar Not Null,\n",
        "  Budget REAL NOT NULL\n",
        ");'''\n",
        "\n",
        ")\n",
        "conn.commit()\n",
        "print('Departments table Created');"
      ],
      "metadata": {
        "colab": {
          "base_uri": "https://localhost:8080/",
          "height": 235
        },
        "id": "XTHoHj7_Mw7_",
        "outputId": "66e45da6-f7b9-4081-8a20-4aa17bfce40f"
      },
      "execution_count": 11,
      "outputs": [
        {
          "output_type": "error",
          "ename": "OperationalError",
          "evalue": "ignored",
          "traceback": [
            "\u001b[0;31m---------------------------------------------------------------------------\u001b[0m",
            "\u001b[0;31mOperationalError\u001b[0m                          Traceback (most recent call last)",
            "\u001b[0;32m<ipython-input-11-8ee838ff9a73>\u001b[0m in \u001b[0;36m<cell line: 1>\u001b[0;34m()\u001b[0m\n\u001b[0;32m----> 1\u001b[0;31m conn.execute('''\n\u001b[0m\u001b[1;32m      2\u001b[0m CREATE TABLE Departments(\n\u001b[1;32m      3\u001b[0m   \u001b[0mCode\u001b[0m \u001b[0mINTEGER\u001b[0m \u001b[0mPRIMARY\u001b[0m \u001b[0mKEY\u001b[0m \u001b[0mNOT\u001b[0m \u001b[0mNULL\u001b[0m\u001b[0;34m,\u001b[0m\u001b[0;34m\u001b[0m\u001b[0;34m\u001b[0m\u001b[0m\n\u001b[1;32m      4\u001b[0m   \u001b[0mName\u001b[0m \u001b[0mVarchar\u001b[0m \u001b[0mNot\u001b[0m \u001b[0mNull\u001b[0m\u001b[0;34m,\u001b[0m\u001b[0;34m\u001b[0m\u001b[0;34m\u001b[0m\u001b[0m\n\u001b[1;32m      5\u001b[0m   \u001b[0mBudget\u001b[0m \u001b[0mREAL\u001b[0m \u001b[0mNOT\u001b[0m \u001b[0mNULL\u001b[0m\u001b[0;34m\u001b[0m\u001b[0;34m\u001b[0m\u001b[0m\n",
            "\u001b[0;31mOperationalError\u001b[0m: table Departments already exists"
          ]
        }
      ]
    },
    {
      "cell_type": "code",
      "source": [
        "conn.execute('''\n",
        "CREATE TABLE Employees(\n",
        "  SSN INTEGER PRIMARY KEY NOT NULL,\n",
        "  Name TEXT Not Null,\n",
        "  LASTName VARCHAR NOT NULL,\n",
        "  Department INTEGER NOT NULL,\n",
        "  Salary INT NOT NULL,\n",
        "  CONSTRAINT fk_Departments_Code FOREIGN KEY(Department)\n",
        "  REFERENCES Departments(code)\n",
        ");'''\n",
        "\n",
        ")\n",
        "conn.commit()\n",
        "print('Employees table Created');"
      ],
      "metadata": {
        "id": "SkWEwb_GNzpM"
      },
      "execution_count": null,
      "outputs": []
    },
    {
      "cell_type": "code",
      "source": [
        "conn.execute(\"INSERT INTO Departments(Code,Name,Budget) VALUES(14,'IT',65000);\")\n",
        "conn.execute(\"INSERT INTO Departments(Code,Name,Budget) VALUES(37,'Accounting',15000);\")\n",
        "conn.execute(\"INSERT INTO Departments(Code,Name,Budget) VALUES(59,'Human Resources',240000);\")\n",
        "conn.execute(\"INSERT INTO Departments(Code,Name,Budget) VALUES(77,'Research',55000);\")\n",
        "conn.comit()"
      ],
      "metadata": {
        "colab": {
          "base_uri": "https://localhost:8080/",
          "height": 235
        },
        "id": "PasPSgtVPrnu",
        "outputId": "7ee58e01-e1d5-4d9d-c814-d19aeda048e0"
      },
      "execution_count": 12,
      "outputs": [
        {
          "output_type": "error",
          "ename": "OperationalError",
          "evalue": "ignored",
          "traceback": [
            "\u001b[0;31m---------------------------------------------------------------------------\u001b[0m",
            "\u001b[0;31mOperationalError\u001b[0m                          Traceback (most recent call last)",
            "\u001b[0;32m<ipython-input-12-6bb1522a61f2>\u001b[0m in \u001b[0;36m<cell line: 1>\u001b[0;34m()\u001b[0m\n\u001b[0;32m----> 1\u001b[0;31m \u001b[0mconn\u001b[0m\u001b[0;34m.\u001b[0m\u001b[0mexecute\u001b[0m\u001b[0;34m(\u001b[0m\u001b[0;34m\"INSERT INTO Departments(Code,Name,Budget) VALUES(14,'IT',65000);\"\u001b[0m\u001b[0;34m)\u001b[0m\u001b[0;34m\u001b[0m\u001b[0;34m\u001b[0m\u001b[0m\n\u001b[0m\u001b[1;32m      2\u001b[0m \u001b[0mconn\u001b[0m\u001b[0;34m.\u001b[0m\u001b[0mexecute\u001b[0m\u001b[0;34m(\u001b[0m\u001b[0;34m\"INSERT INTO Departments(Code,Name,Budget) VALUES(37,'Accounting',15000);\"\u001b[0m\u001b[0;34m)\u001b[0m\u001b[0;34m\u001b[0m\u001b[0;34m\u001b[0m\u001b[0m\n\u001b[1;32m      3\u001b[0m \u001b[0mconn\u001b[0m\u001b[0;34m.\u001b[0m\u001b[0mexecute\u001b[0m\u001b[0;34m(\u001b[0m\u001b[0;34m\"INSERT INTO Departments(Code,Name,Budget) VALUES(59,'Human Resources',240000);\"\u001b[0m\u001b[0;34m)\u001b[0m\u001b[0;34m\u001b[0m\u001b[0;34m\u001b[0m\u001b[0m\n\u001b[1;32m      4\u001b[0m \u001b[0mconn\u001b[0m\u001b[0;34m.\u001b[0m\u001b[0mexecute\u001b[0m\u001b[0;34m(\u001b[0m\u001b[0;34m\"INSERT INTO Departments(Code,Name,Budget) VALUES(77,'Research',55000);\"\u001b[0m\u001b[0;34m)\u001b[0m\u001b[0;34m\u001b[0m\u001b[0;34m\u001b[0m\u001b[0m\n\u001b[1;32m      5\u001b[0m \u001b[0mconn\u001b[0m\u001b[0;34m.\u001b[0m\u001b[0mcomit\u001b[0m\u001b[0;34m(\u001b[0m\u001b[0;34m)\u001b[0m\u001b[0;34m\u001b[0m\u001b[0;34m\u001b[0m\u001b[0m\n",
            "\u001b[0;31mOperationalError\u001b[0m: database is locked"
          ]
        }
      ]
    },
    {
      "cell_type": "code",
      "source": [
        "conn = sqlite3.connect('test.db')\n",
        "cursor = conn.execute('''SELECT * FROM Departments''')\n",
        "for row in cursor:\n",
        "  print(row)"
      ],
      "metadata": {
        "id": "rhhSrrhAQl9v"
      },
      "execution_count": 13,
      "outputs": []
    },
    {
      "cell_type": "code",
      "source": [
        "cursor = conn.execute('''SELECT * FROM Employees''')\n",
        "for row in cursor:\n",
        "  print(row)"
      ],
      "metadata": {
        "id": "cE8o0eBCSNat"
      },
      "execution_count": 14,
      "outputs": []
    },
    {
      "cell_type": "code",
      "source": [],
      "metadata": {
        "id": "9dQHez8dSZrK"
      },
      "execution_count": null,
      "outputs": []
    }
  ]
}